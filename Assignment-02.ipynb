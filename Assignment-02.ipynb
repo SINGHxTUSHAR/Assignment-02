{
 "cells": [
  {
   "cell_type": "markdown",
   "id": "1902c20c",
   "metadata": {},
   "source": [
    " Q1.How do you comment code in Python? What are the different types of comments?"
   ]
  },
  {
   "cell_type": "markdown",
   "id": "1c072f94",
   "metadata": {},
   "source": [
    "we can comment by using the Hash symbol '#\" or we can also select and can use command \"ctrl + /\"\n",
    "Their are different types of comments:\n",
    "1. single line: by using the '#' . This will cover information in single line\n",
    "2. Multi line: by using the (\"\"\" \"\"\") 3 double or single quotes."
   ]
  },
  {
   "cell_type": "code",
   "execution_count": null,
   "id": "2535da88",
   "metadata": {},
   "outputs": [],
   "source": []
  },
  {
   "cell_type": "code",
   "execution_count": null,
   "id": "b4e99b61",
   "metadata": {},
   "outputs": [],
   "source": []
  },
  {
   "cell_type": "markdown",
   "id": "9f9931d8",
   "metadata": {},
   "source": [
    "Q2. What are variables in Python? How do you declare and assign values to variables?"
   ]
  },
  {
   "cell_type": "markdown",
   "id": "b60eeeb7",
   "metadata": {},
   "source": [
    "variable is a reserved memory location used to store values\n",
    "example coulde be:"
   ]
  },
  {
   "cell_type": "code",
   "execution_count": 2,
   "id": "3f0f069a",
   "metadata": {},
   "outputs": [],
   "source": [
    "a = 45 # a is the variable"
   ]
  },
  {
   "cell_type": "markdown",
   "id": "d4cb8122",
   "metadata": {},
   "source": [
    "define a name to the variable and then assign the value to it. Their are some certain rules to define the name for the variables."
   ]
  },
  {
   "cell_type": "code",
   "execution_count": null,
   "id": "c7fe6a98",
   "metadata": {},
   "outputs": [],
   "source": []
  },
  {
   "cell_type": "markdown",
   "id": "c32359e7",
   "metadata": {},
   "source": [
    "Q3. How do you convert one data type to another in Python?"
   ]
  },
  {
   "cell_type": "markdown",
   "id": "743e52c1",
   "metadata": {},
   "source": [
    "we can convert one data type to another by using the typecasting."
   ]
  },
  {
   "cell_type": "code",
   "execution_count": 3,
   "id": "e5552d59",
   "metadata": {},
   "outputs": [],
   "source": [
    "a = 45"
   ]
  },
  {
   "cell_type": "code",
   "execution_count": 4,
   "id": "840c7014",
   "metadata": {},
   "outputs": [
    {
     "data": {
      "text/plain": [
       "45.0"
      ]
     },
     "execution_count": 4,
     "metadata": {},
     "output_type": "execute_result"
    }
   ],
   "source": [
    "float(a)   # typecasting"
   ]
  },
  {
   "cell_type": "code",
   "execution_count": null,
   "id": "f41f8c7d",
   "metadata": {},
   "outputs": [],
   "source": []
  },
  {
   "cell_type": "markdown",
   "id": "1b9ca6ba",
   "metadata": {},
   "source": [
    "Q4. How do you write and execute a Python script from the command line?"
   ]
  },
  {
   "cell_type": "markdown",
   "id": "17f04d58",
   "metadata": {},
   "source": [
    "we can use cmd for the python code by running the cmd as an admin and we need to open a command line and type the word python followed by the path to our script file."
   ]
  },
  {
   "cell_type": "code",
   "execution_count": null,
   "id": "2ba09e43",
   "metadata": {},
   "outputs": [],
   "source": []
  },
  {
   "cell_type": "markdown",
   "id": "1bfd3bb4",
   "metadata": {},
   "source": [
    "Q5. Given a list my_list = [1, 2, 3, 4, 5], write the code to slice the list and obtain the sub-list [2, 3]."
   ]
  },
  {
   "cell_type": "code",
   "execution_count": 5,
   "id": "a32fd3a0",
   "metadata": {},
   "outputs": [],
   "source": [
    "my_list = [1,2,3,4,5]"
   ]
  },
  {
   "cell_type": "code",
   "execution_count": 6,
   "id": "e940d615",
   "metadata": {},
   "outputs": [
    {
     "data": {
      "text/plain": [
       "[2, 3]"
      ]
     },
     "execution_count": 6,
     "metadata": {},
     "output_type": "execute_result"
    }
   ],
   "source": [
    "my_list[1:3]"
   ]
  },
  {
   "cell_type": "code",
   "execution_count": null,
   "id": "1471b7b5",
   "metadata": {},
   "outputs": [],
   "source": []
  },
  {
   "cell_type": "markdown",
   "id": "25c6f507",
   "metadata": {},
   "source": [
    "Q6. What is a complex number in mathematics, and how is it represented in Python?"
   ]
  },
  {
   "cell_type": "markdown",
   "id": "87a28b78",
   "metadata": {},
   "source": [
    "complex number is the combination of real and imaginary numbers"
   ]
  },
  {
   "cell_type": "code",
   "execution_count": 7,
   "id": "8b66e33c",
   "metadata": {},
   "outputs": [],
   "source": [
    "#Example for complex number is:\n",
    "c = 63 + 7j   #j represent the imaginary number"
   ]
  },
  {
   "cell_type": "code",
   "execution_count": null,
   "id": "1c65eaa1",
   "metadata": {},
   "outputs": [],
   "source": []
  },
  {
   "cell_type": "markdown",
   "id": "7aaa31d3",
   "metadata": {},
   "source": [
    "Q7. What is the correct way to declare a variable named age and assign the value 25 to it?"
   ]
  },
  {
   "cell_type": "markdown",
   "id": "33297264",
   "metadata": {},
   "source": [
    "just name a variable as 'age' and assign the value by using the assignment operator"
   ]
  },
  {
   "cell_type": "code",
   "execution_count": 8,
   "id": "9d2a824b",
   "metadata": {},
   "outputs": [],
   "source": [
    "age = 25"
   ]
  },
  {
   "cell_type": "code",
   "execution_count": 9,
   "id": "380fc9e2",
   "metadata": {},
   "outputs": [
    {
     "data": {
      "text/plain": [
       "25"
      ]
     },
     "execution_count": 9,
     "metadata": {},
     "output_type": "execute_result"
    }
   ],
   "source": [
    "age"
   ]
  },
  {
   "cell_type": "code",
   "execution_count": null,
   "id": "642afba1",
   "metadata": {},
   "outputs": [],
   "source": []
  },
  {
   "cell_type": "markdown",
   "id": "20138554",
   "metadata": {},
   "source": [
    "Q8. Declare a variable named price and assign the value 9.99 to it. What data type does this variable\n",
    "belong to?"
   ]
  },
  {
   "cell_type": "code",
   "execution_count": 10,
   "id": "9924a37f",
   "metadata": {},
   "outputs": [],
   "source": [
    "price = 9.99"
   ]
  },
  {
   "cell_type": "code",
   "execution_count": 11,
   "id": "dccccffb",
   "metadata": {},
   "outputs": [
    {
     "data": {
      "text/plain": [
       "9.99"
      ]
     },
     "execution_count": 11,
     "metadata": {},
     "output_type": "execute_result"
    }
   ],
   "source": [
    "price"
   ]
  },
  {
   "cell_type": "code",
   "execution_count": 12,
   "id": "12b764ce",
   "metadata": {},
   "outputs": [
    {
     "data": {
      "text/plain": [
       "float"
      ]
     },
     "execution_count": 12,
     "metadata": {},
     "output_type": "execute_result"
    }
   ],
   "source": [
    "type(price)"
   ]
  },
  {
   "cell_type": "code",
   "execution_count": null,
   "id": "20fcb490",
   "metadata": {},
   "outputs": [],
   "source": []
  },
  {
   "cell_type": "markdown",
   "id": "7ee504bc",
   "metadata": {},
   "source": [
    "Q9. Create a variable named name and assign your full name to it as a string. How would you print the\n",
    "value of this variable?"
   ]
  },
  {
   "cell_type": "code",
   "execution_count": 13,
   "id": "0ba1028f",
   "metadata": {},
   "outputs": [],
   "source": [
    "name = \"TUSHAR SINGH RAWAT\""
   ]
  },
  {
   "cell_type": "code",
   "execution_count": 14,
   "id": "d55adeec",
   "metadata": {},
   "outputs": [
    {
     "name": "stdout",
     "output_type": "stream",
     "text": [
      "TUSHAR SINGH RAWAT\n"
     ]
    }
   ],
   "source": [
    "# we can use the inbuilt print function to print the value for the above\n",
    "print(name)"
   ]
  },
  {
   "cell_type": "code",
   "execution_count": null,
   "id": "ab58b437",
   "metadata": {},
   "outputs": [],
   "source": []
  },
  {
   "cell_type": "markdown",
   "id": "a4bd884c",
   "metadata": {},
   "source": [
    "Q10. Given the string \"Hello, World!\", extract the substring \"World\"."
   ]
  },
  {
   "cell_type": "code",
   "execution_count": 15,
   "id": "e2ec4b2a",
   "metadata": {},
   "outputs": [],
   "source": [
    "lis = \"Hello, World!\""
   ]
  },
  {
   "cell_type": "code",
   "execution_count": 17,
   "id": "66cf20be",
   "metadata": {},
   "outputs": [
    {
     "data": {
      "text/plain": [
       "'World'"
      ]
     },
     "execution_count": 17,
     "metadata": {},
     "output_type": "execute_result"
    }
   ],
   "source": [
    "lis[7:12:]"
   ]
  },
  {
   "cell_type": "code",
   "execution_count": null,
   "id": "72862839",
   "metadata": {},
   "outputs": [],
   "source": []
  },
  {
   "cell_type": "markdown",
   "id": "ec337689",
   "metadata": {},
   "source": [
    "Q11. Create a variable named \"is_student\" and assign it a boolean value indicating whether you are\n",
    "currently a student or not."
   ]
  },
  {
   "cell_type": "code",
   "execution_count": 18,
   "id": "1add30f4",
   "metadata": {},
   "outputs": [],
   "source": [
    "is_student = True"
   ]
  },
  {
   "cell_type": "code",
   "execution_count": 19,
   "id": "246078d2",
   "metadata": {},
   "outputs": [
    {
     "data": {
      "text/plain": [
       "True"
      ]
     },
     "execution_count": 19,
     "metadata": {},
     "output_type": "execute_result"
    }
   ],
   "source": [
    "is_student"
   ]
  },
  {
   "cell_type": "code",
   "execution_count": null,
   "id": "1ec4da97",
   "metadata": {},
   "outputs": [],
   "source": []
  }
 ],
 "metadata": {
  "kernelspec": {
   "display_name": "Python 3 (ipykernel)",
   "language": "python",
   "name": "python3"
  },
  "language_info": {
   "codemirror_mode": {
    "name": "ipython",
    "version": 3
   },
   "file_extension": ".py",
   "mimetype": "text/x-python",
   "name": "python",
   "nbconvert_exporter": "python",
   "pygments_lexer": "ipython3",
   "version": "3.9.12"
  }
 },
 "nbformat": 4,
 "nbformat_minor": 5
}
